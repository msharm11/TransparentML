{
 "cells": [
  {
   "cell_type": "markdown",
   "metadata": {},
   "source": [
    "# NORMALIZED COUNTS VS TF-IDF"
   ]
  },
  {
   "cell_type": "code",
   "execution_count": 1,
   "metadata": {
    "collapsed": true
   },
   "outputs": [],
   "source": [
    "from classifiers import TransparentLogisticRegression\n",
    "import numpy as np\n",
    "import glob\n",
    "from sklearn.feature_extraction.text import CountVectorizer\n",
    "from time import time\n",
    "from scipy.sparse.construct import diags\n",
    "from utils import load_imdb, ColoredDoc, ColoredWeightedDoc, TopInstances\n",
    "from IPython import display"
   ]
  },
  {
   "cell_type": "code",
   "execution_count": 2,
   "metadata": {
    "collapsed": false
   },
   "outputs": [
    {
     "name": "stdout",
     "output_type": "stream",
     "text": [
      "Loading the data\n",
      "Loading the imdb reviews data\n",
      "Data loaded.\n",
      "Extracting features from the training dataset using a sparse vectorizer\n",
      "Feature extraction technique is CountVectorizer(analyzer=u'word', binary=False, decode_error=u'strict',\n",
      "        dtype=<type 'numpy.int64'>, encoding=u'utf-8', input=u'content',\n",
      "        lowercase=True, max_df=1.0, max_features=None, min_df=5,\n",
      "        ngram_range=(1, 1), preprocessor=None, stop_words=None,\n",
      "        strip_accents=None, token_pattern=u'(?u)\\\\b\\\\w\\\\w+\\\\b',\n",
      "        tokenizer=None, vocabulary=None).\n",
      "done in 5.994000s\n",
      "n_samples: 25000, n_features: 27272\n",
      "\n",
      "Extracting features from the test dataset using the same vectorizer\n",
      "done in 5.377000s\n",
      "n_samples: 25000, n_features: 27272\n",
      "\n",
      "\n",
      "Loading took 14.77s.\n",
      "\n"
     ]
    }
   ],
   "source": [
    "print \"Loading the data\"\n",
    "    \n",
    "t0 = time()\n",
    "\n",
    "vect = CountVectorizer(min_df=5, max_df=1.0, binary=False, ngram_range=(1, 1))\n",
    "X_train, y_train, X_test, y_test, train_corpus, test_corpus = load_imdb(\"C:\\\\Users\\\\Mustafa\\\\Desktop\\\\aclImdb\", shuffle=True, vectorizer=vect)\n",
    "feature_names = vect.get_feature_names()\n",
    "\n",
    "duration = time() - t0\n",
    "\n",
    "print\n",
    "print \"Loading took %0.2fs.\" % duration\n",
    "print"
   ]
  },
  {
   "cell_type": "code",
   "execution_count": 3,
   "metadata": {
    "collapsed": true
   },
   "outputs": [],
   "source": [
    "# Classifiers, datasets; fill these in\n",
    "clfs = []\n",
    "names = []\n",
    "X_trains = []\n",
    "X_tests = []\n",
    "tis = []"
   ]
  },
  {
   "cell_type": "code",
   "execution_count": 4,
   "metadata": {
    "collapsed": false
   },
   "outputs": [],
   "source": [
    "from sklearn.preprocessing import normalize\n",
    "from scipy.sparse import csr_matrix\n",
    "from sklearn.feature_extraction.text import TfidfTransformer\n",
    "# Normalized counts\n",
    "clfs.append(TransparentLogisticRegression(penalty='l1', C=1.))\n",
    "X_trains.append(normalize(csr_matrix(X_train, dtype=float))) #l2-norm; normalize instances\n",
    "X_tests.append(normalize(csr_matrix(X_test, dtype=float))) #l2-norm; normalize instances\n",
    "names.append(\"Normalized Counts\")\n",
    "# Tf-idf\n",
    "tfidftransformer = TfidfTransformer()\n",
    "clfs.append(TransparentLogisticRegression(penalty='l1', C=1.))\n",
    "X_trains.append(tfidftransformer.fit_transform(X_train)) #by default, take l2-norm of the instances\n",
    "X_tests.append(tfidftransformer.transform(X_test)) #by default, take l2-norm of the instances\n",
    "names.append(\"Tf-idf\")"
   ]
  },
  {
   "cell_type": "code",
   "execution_count": 5,
   "metadata": {
    "collapsed": false
   },
   "outputs": [
    {
     "name": "stdout",
     "output_type": "stream",
     "text": [
      "Fitting the classifiers\n",
      "Fitting 2 classifiers took 4.61s.\n"
     ]
    }
   ],
   "source": [
    "print \"Fitting the classifiers\"\n",
    "\n",
    "t0 = time()\n",
    "\n",
    "for i in range(len(clfs)):\n",
    "    clfs[i].fit(X_trains[i], y_train)\n",
    "    \n",
    "duration = time() - t0\n",
    "\n",
    "print \"Fitting %d classifiers took %0.2fs.\" % (len(clfs), duration)"
   ]
  },
  {
   "cell_type": "code",
   "execution_count": 6,
   "metadata": {
    "collapsed": false
   },
   "outputs": [
    {
     "name": "stdout",
     "output_type": "stream",
     "text": [
      "Accuracies\n",
      "Normalized Counts \t accuracy 0.87\n",
      "Tf-idf \t accuracy 0.88\n"
     ]
    }
   ],
   "source": [
    "print \"Accuracies\"\n",
    "\n",
    "from sklearn import metrics\n",
    "\n",
    "for i in range(len(clfs)):\n",
    "    y_pred = clfs[i].predict(X_tests[i])\n",
    "    print \"%s \\t accuracy %0.2f\" %(names[i], metrics.accuracy_score(y_test, y_pred))"
   ]
  },
  {
   "cell_type": "code",
   "execution_count": 7,
   "metadata": {
    "collapsed": false
   },
   "outputs": [
    {
     "name": "stdout",
     "output_type": "stream",
     "text": [
      "Predicting the evidences\n",
      "Predicting evidences took 0.70s.\n"
     ]
    }
   ],
   "source": [
    "print \"Predicting the evidences\"\n",
    "\n",
    "t0 = time()\n",
    "\n",
    "\n",
    "for i in range(len(clfs)):\n",
    "    neg_evi, pos_evi = clfs[i].predict_evidences(X_tests[i])\n",
    "    tis.append(TopInstances(neg_evi, pos_evi, clfs[i].intercept_))\n",
    "\n",
    "duration = time() - t0\n",
    "\n",
    "print \"Predicting evidences took %0.2fs.\" % duration"
   ]
  },
  {
   "cell_type": "markdown",
   "metadata": {
    "collapsed": true
   },
   "source": [
    "## Most Negative"
   ]
  },
  {
   "cell_type": "code",
   "execution_count": 8,
   "metadata": {
    "collapsed": false
   },
   "outputs": [
    {
     "data": {
      "text/html": [
       "<b>Normalized Counts<b>"
      ]
     },
     "metadata": {},
     "output_type": "display_data"
    },
    {
     "data": {
      "text/html": [
       "<font size = 1, color=gray> One </font><font size = 1, color=gray> of </font><font size = 1, color=blue> the </font><font size = 6, color=red> worst </font><font size = 1, color=blue> movies </font><font size = 1, color=gray> I've </font><font size = 1, color=blue> ever </font><font size = 1, color=blue> seen!!! </font><font size = 1, color=gray> Absolutely </font><font size = 6, color=red> awful. </font><font size = 4, color=red> Poor </font><font size = 1, color=red> acting, </font><font size = 4, color=red> poor </font><font size = 1, color=blue> story, </font><font size = 1, color=red> there </font><font size = 1, color=red> isn't </font><font size = 1, color=gray> one </font><font size = 2, color=red> redeeming </font><font size = 1, color=gray> quality </font><font size = 1, color=gray> about </font><font size = 1, color=red> this </font><font size = 1, color=red> movie </font><font size = 1, color=red> to </font><font size = 1, color=blue> recommend. </font><font size = 1, color=gray> Amistad </font><font size = 1, color=blue> is </font><font size = 1, color=red> much </font><font size = 1, color=red> better. </font><font size = 3, color=red> Avoid </font><font size = 1, color=red> this </font><font size = 1, color=red> movie </font><font size = 1, color=red> like </font><font size = 1, color=blue> the </font><font size = 1, color=gray> plague! </font>"
      ],
      "text/plain": [
       "<utils.ColoredWeightedDoc at 0x317a208>"
      ]
     },
     "metadata": {},
     "output_type": "display_data"
    },
    {
     "data": {
      "text/html": [
       "<b>Tf-idf<b>"
      ]
     },
     "metadata": {},
     "output_type": "display_data"
    },
    {
     "data": {
      "text/html": [
       "<font size = 1, color=gray> One </font><font size = 1, color=gray> of </font><font size = 1, color=blue> the </font><font size = 6, color=red> worst </font><font size = 1, color=blue> movies </font><font size = 1, color=gray> I've </font><font size = 1, color=blue> ever </font><font size = 2, color=blue> seen!!! </font><font size = 1, color=gray> Absolutely </font><font size = 6, color=red> awful. </font><font size = 4, color=red> Poor </font><font size = 1, color=red> acting, </font><font size = 4, color=red> poor </font><font size = 1, color=blue> story, </font><font size = 1, color=red> there </font><font size = 1, color=red> isn't </font><font size = 1, color=gray> one </font><font size = 3, color=red> redeeming </font><font size = 1, color=gray> quality </font><font size = 1, color=gray> about </font><font size = 1, color=red> this </font><font size = 1, color=red> movie </font><font size = 1, color=red> to </font><font size = 1, color=blue> recommend. </font><font size = 1, color=gray> Amistad </font><font size = 1, color=blue> is </font><font size = 1, color=red> much </font><font size = 1, color=red> better. </font><font size = 3, color=red> Avoid </font><font size = 1, color=red> this </font><font size = 1, color=red> movie </font><font size = 1, color=gray> like </font><font size = 1, color=blue> the </font><font size = 1, color=gray> plague! </font>"
      ],
      "text/plain": [
       "<utils.ColoredWeightedDoc at 0x317a208>"
      ]
     },
     "metadata": {},
     "output_type": "display_data"
    }
   ],
   "source": [
    "for i in range(len(clfs)):\n",
    "    display.display_html(\"<b>\"+names[i]+\"<b>\", raw=True)\n",
    "    j=tis[i].most_negatives()[0]\n",
    "    display.display(ColoredWeightedDoc(test_corpus[j].decode('utf-8'), feature_names, clfs[i].coef_[0]))"
   ]
  },
  {
   "cell_type": "markdown",
   "metadata": {
    "collapsed": true
   },
   "source": [
    "## Most Positive"
   ]
  },
  {
   "cell_type": "code",
   "execution_count": 9,
   "metadata": {
    "collapsed": false
   },
   "outputs": [
    {
     "data": {
      "text/html": [
       "<b>Normalized Counts<b>"
      ]
     },
     "metadata": {},
     "output_type": "display_data"
    },
    {
     "data": {
      "text/html": [
       "<font size = 1, color=blue> What </font><font size = 1, color=gray> a </font><font size = 4, color=blue> wonderful </font><font size = 1, color=blue> film, </font><font size = 1, color=gray> filled </font><font size = 1, color=blue> with </font><font size = 1, color=gray> eccentric, </font><font size = 2, color=blue> unique </font><font size = 1, color=red> characters </font><font size = 1, color=blue> who </font><font size = 1, color=red> are </font><font size = 3, color=blue> wonderfully </font><font size = 1, color=gray> realized </font><font size = 1, color=red> by </font><font size = 1, color=gray> a </font><font size = 3, color=blue> great </font><font size = 1, color=gray> ensemble </font><font size = 1, color=red> cast. </font><font size = 1, color=blue> The </font><font size = 1, color=red> director </font><font size = 1, color=blue> also </font><font size = 1, color=red> did </font><font size = 1, color=gray> a </font><font size = 3, color=blue> great </font><font size = 2, color=blue> job </font><font size = 1, color=gray> keeping </font><font size = 1, color=blue> the </font><font size = 1, color=blue> story </font><font size = 1, color=gray> held </font><font size = 1, color=blue> together, </font><font size = 1, color=gray> getting </font><font size = 1, color=blue> those </font><font size = 4, color=blue> wonderful </font><font size = 1, color=blue> performances </font><font size = 1, color=red> (on </font><font size = 1, color=red> not </font><font size = 1, color=gray> messing </font><font size = 1, color=blue> with </font><font size = 1, color=gray> them) </font><font size = 1, color=blue> and </font><font size = 1, color=gray> using </font><font size = 1, color=blue> music </font><font size = 1, color=blue> (and </font><font size = 1, color=blue> what </font><font size = 4, color=blue> wonderful </font><font size = 1, color=blue> music </font><font size = 1, color=blue> it </font><font size = 1, color=blue> is) </font><font size = 1, color=red> to </font><font size = 3, color=blue> great </font><font size = 1, color=gray> effect. </font><font size = 1, color=gray> S. </font><font size = 1, color=gray> Epatha </font><font size = 1, color=blue> in </font><font size = 1, color=blue> the </font><font size = 1, color=gray> lead </font><font size = 1, color=gray> role </font><font size = 1, color=blue> is </font><font size = 3, color=blue> great. </font><font size = 1, color=gray> I </font><font size = 1, color=red> had </font><font size = 2, color=blue> always </font><font size = 1, color=gray> heard </font><font size = 1, color=blue> what </font><font size = 1, color=gray> a </font><font size = 3, color=blue> brilliant </font><font size = 1, color=gray> stage </font><font size = 1, color=red> actor </font><font size = 1, color=blue> she </font><font size = 1, color=blue> is, </font><font size = 1, color=blue> and </font><font size = 1, color=blue> although </font><font size = 1, color=gray> I </font><font size = 1, color=red> have </font><font size = 2, color=blue> enjoyed </font><font size = 1, color=blue> her </font><font size = 1, color=red> on </font><font size = 1, color=gray> Law </font><font size = 1, color=blue> and </font><font size = 1, color=gray> Order, </font><font size = 1, color=red> this </font><font size = 1, color=gray> really </font><font size = 1, color=blue> shows </font><font size = 1, color=blue> what </font><font size = 1, color=blue> she </font><font size = 1, color=red> can </font><font size = 1, color=red> do </font><font size = 1, color=blue> with </font><font size = 1, color=gray> a </font><font size = 1, color=gray> filled </font><font size = 1, color=red> out, </font><font size = 1, color=gray> complex </font><font size = 1, color=gray> role. </font><font size = 1, color=gray> Macy </font><font size = 1, color=gray> Gray </font><font size = 1, color=blue> is </font><font size = 1, color=blue> terrific, </font><font size = 1, color=gray> Mos </font><font size = 1, color=gray> Def, </font><font size = 1, color=blue> as </font><font size = 1, color=gray> usual, </font><font size = 4, color=blue> wonderful. </font><font size = 1, color=gray> Lou </font><font size = 1, color=gray> Gossett, </font><font size = 3, color=blue> great. </font><font size = 1, color=gray> Jimmy </font><font size = 1, color=gray> Smits, </font><font size = 1, color=blue> terrific, </font><font size = 1, color=blue> and </font><font size = 1, color=red> doesn't </font><font size = 1, color=red> try </font><font size = 1, color=red> to </font><font size = 1, color=gray> pull </font><font size = 1, color=gray> focus </font><font size = 1, color=red> because </font><font size = 1, color=blue> he's </font><font size = 1, color=gray> a </font><font size = 1, color=gray> star. </font><font size = 1, color=gray> A </font><font size = 1, color=blue> true </font><font size = 1, color=gray> piece </font><font size = 1, color=gray> of </font><font size = 1, color=gray> ensemble </font><font size = 1, color=red> acting. </font><font size = 1, color=red> <br </font><font size = 1, color=red> /><br </font><font size = 1, color=red> />Rent </font><font size = 1, color=blue> it, </font><font size = 2, color=blue> enjoy </font><font size = 1, color=blue> it, </font><font size = 1, color=gray> groove </font><font size = 1, color=red> to </font><font size = 1, color=blue> it, </font><font size = 1, color=blue> and </font><font size = 1, color=gray> treasure </font><font size = 1, color=blue> it. </font><font size = 1, color=red> Something </font><font size = 1, color=gray> special. </font>"
      ],
      "text/plain": [
       "<utils.ColoredWeightedDoc at 0x3c9a240>"
      ]
     },
     "metadata": {},
     "output_type": "display_data"
    },
    {
     "data": {
      "text/html": [
       "<b>Tf-idf<b>"
      ]
     },
     "metadata": {},
     "output_type": "display_data"
    },
    {
     "data": {
      "text/html": [
       "<font size = 1, color=blue> What </font><font size = 1, color=gray> a </font><font size = 3, color=blue> wonderful </font><font size = 1, color=blue> film, </font><font size = 1, color=gray> filled </font><font size = 1, color=blue> with </font><font size = 1, color=gray> eccentric, </font><font size = 2, color=blue> unique </font><font size = 1, color=red> characters </font><font size = 1, color=blue> who </font><font size = 1, color=red> are </font><font size = 3, color=blue> wonderfully </font><font size = 1, color=gray> realized </font><font size = 1, color=red> by </font><font size = 1, color=gray> a </font><font size = 4, color=blue> great </font><font size = 1, color=gray> ensemble </font><font size = 1, color=gray> cast. </font><font size = 1, color=blue> The </font><font size = 2, color=red> director </font><font size = 2, color=blue> also </font><font size = 1, color=red> did </font><font size = 1, color=gray> a </font><font size = 4, color=blue> great </font><font size = 2, color=blue> job </font><font size = 1, color=gray> keeping </font><font size = 1, color=blue> the </font><font size = 1, color=blue> story </font><font size = 1, color=gray> held </font><font size = 1, color=blue> together, </font><font size = 1, color=gray> getting </font><font size = 1, color=blue> those </font><font size = 3, color=blue> wonderful </font><font size = 1, color=blue> performances </font><font size = 1, color=red> (on </font><font size = 2, color=red> not </font><font size = 1, color=gray> messing </font><font size = 1, color=blue> with </font><font size = 1, color=gray> them) </font><font size = 2, color=blue> and </font><font size = 1, color=gray> using </font><font size = 1, color=gray> music </font><font size = 2, color=blue> (and </font><font size = 1, color=blue> what </font><font size = 3, color=blue> wonderful </font><font size = 1, color=gray> music </font><font size = 2, color=blue> it </font><font size = 1, color=blue> is) </font><font size = 1, color=red> to </font><font size = 4, color=blue> great </font><font size = 1, color=gray> effect. </font><font size = 1, color=gray> S. </font><font size = 1, color=gray> Epatha </font><font size = 1, color=blue> in </font><font size = 1, color=blue> the </font><font size = 1, color=gray> lead </font><font size = 1, color=gray> role </font><font size = 1, color=blue> is </font><font size = 4, color=blue> great. </font><font size = 1, color=gray> I </font><font size = 1, color=red> had </font><font size = 1, color=blue> always </font><font size = 1, color=gray> heard </font><font size = 1, color=blue> what </font><font size = 1, color=gray> a </font><font size = 3, color=blue> brilliant </font><font size = 1, color=gray> stage </font><font size = 1, color=red> actor </font><font size = 1, color=blue> she </font><font size = 1, color=blue> is, </font><font size = 2, color=blue> and </font><font size = 1, color=blue> although </font><font size = 1, color=gray> I </font><font size = 1, color=red> have </font><font size = 2, color=blue> enjoyed </font><font size = 1, color=blue> her </font><font size = 1, color=red> on </font><font size = 1, color=gray> Law </font><font size = 2, color=blue> and </font><font size = 1, color=gray> Order, </font><font size = 1, color=red> this </font><font size = 1, color=gray> really </font><font size = 2, color=blue> shows </font><font size = 1, color=blue> what </font><font size = 1, color=blue> she </font><font size = 1, color=gray> can </font><font size = 1, color=red> do </font><font size = 1, color=blue> with </font><font size = 1, color=gray> a </font><font size = 1, color=gray> filled </font><font size = 1, color=gray> out, </font><font size = 1, color=blue> complex </font><font size = 1, color=gray> role. </font><font size = 1, color=gray> Macy </font><font size = 1, color=gray> Gray </font><font size = 1, color=blue> is </font><font size = 2, color=blue> terrific, </font><font size = 1, color=gray> Mos </font><font size = 1, color=gray> Def, </font><font size = 1, color=blue> as </font><font size = 1, color=gray> usual, </font><font size = 3, color=blue> wonderful. </font><font size = 1, color=red> Lou </font><font size = 1, color=gray> Gossett, </font><font size = 4, color=blue> great. </font><font size = 1, color=gray> Jimmy </font><font size = 1, color=gray> Smits, </font><font size = 2, color=blue> terrific, </font><font size = 2, color=blue> and </font><font size = 1, color=red> doesn't </font><font size = 1, color=red> try </font><font size = 1, color=red> to </font><font size = 1, color=gray> pull </font><font size = 1, color=gray> focus </font><font size = 1, color=gray> because </font><font size = 1, color=blue> he's </font><font size = 1, color=gray> a </font><font size = 1, color=gray> star. </font><font size = 1, color=gray> A </font><font size = 2, color=blue> true </font><font size = 1, color=gray> piece </font><font size = 1, color=gray> of </font><font size = 1, color=gray> ensemble </font><font size = 1, color=red> acting. </font><font size = 1, color=red> <br </font><font size = 1, color=red> /><br </font><font size = 1, color=red> />Rent </font><font size = 2, color=blue> it, </font><font size = 2, color=blue> enjoy </font><font size = 2, color=blue> it, </font><font size = 1, color=gray> groove </font><font size = 1, color=red> to </font><font size = 2, color=blue> it, </font><font size = 2, color=blue> and </font><font size = 1, color=gray> treasure </font><font size = 2, color=blue> it. </font><font size = 1, color=red> Something </font><font size = 1, color=gray> special. </font>"
      ],
      "text/plain": [
       "<utils.ColoredWeightedDoc at 0x3c9a240>"
      ]
     },
     "metadata": {},
     "output_type": "display_data"
    }
   ],
   "source": [
    "for i in range(len(clfs)):\n",
    "    display.display_html(\"<b>\"+names[i]+\"<b>\", raw=True)\n",
    "    j=tis[i].most_positives()[0]\n",
    "    display.display(ColoredWeightedDoc(test_corpus[j].decode('utf-8'), feature_names, clfs[i].coef_[0]))"
   ]
  },
  {
   "cell_type": "markdown",
   "metadata": {
    "collapsed": true
   },
   "source": [
    "## Most opinionated"
   ]
  },
  {
   "cell_type": "code",
   "execution_count": 10,
   "metadata": {
    "collapsed": false
   },
   "outputs": [
    {
     "data": {
      "text/html": [
       "<b>Normalized Counts<b>"
      ]
     },
     "metadata": {},
     "output_type": "display_data"
    },
    {
     "data": {
      "text/html": [
       "<font size = 1, color=gray> One </font><font size = 1, color=gray> of </font><font size = 1, color=blue> the </font><font size = 6, color=red> worst </font><font size = 1, color=blue> movies </font><font size = 1, color=gray> I've </font><font size = 1, color=blue> ever </font><font size = 1, color=blue> seen!!! </font><font size = 1, color=gray> Absolutely </font><font size = 6, color=red> awful. </font><font size = 4, color=red> Poor </font><font size = 1, color=red> acting, </font><font size = 4, color=red> poor </font><font size = 1, color=blue> story, </font><font size = 1, color=red> there </font><font size = 1, color=red> isn't </font><font size = 1, color=gray> one </font><font size = 2, color=red> redeeming </font><font size = 1, color=gray> quality </font><font size = 1, color=gray> about </font><font size = 1, color=red> this </font><font size = 1, color=red> movie </font><font size = 1, color=red> to </font><font size = 1, color=blue> recommend. </font><font size = 1, color=gray> Amistad </font><font size = 1, color=blue> is </font><font size = 1, color=red> much </font><font size = 1, color=red> better. </font><font size = 3, color=red> Avoid </font><font size = 1, color=red> this </font><font size = 1, color=red> movie </font><font size = 1, color=red> like </font><font size = 1, color=blue> the </font><font size = 1, color=gray> plague! </font>"
      ],
      "text/plain": [
       "<utils.ColoredWeightedDoc at 0x3c82f60>"
      ]
     },
     "metadata": {},
     "output_type": "display_data"
    },
    {
     "data": {
      "text/html": [
       "<b>Tf-idf<b>"
      ]
     },
     "metadata": {},
     "output_type": "display_data"
    },
    {
     "data": {
      "text/html": [
       "<font size = 1, color=gray> I </font><font size = 1, color=red> rented </font><font size = 1, color=red> this </font><font size = 1, color=red> movie </font><font size = 3, color=blue> today... </font><font size = 6, color=red> worst </font><font size = 1, color=red> movie </font><font size = 1, color=blue> EVER. </font><font size = 2, color=blue> It </font><font size = 1, color=red> was </font><font size = 1, color=gray> a </font><font size = 1, color=red> total </font><font size = 6, color=red> waste </font><font size = 1, color=gray> of </font><font size = 1, color=blue> time </font><font size = 2, color=blue> and </font><font size = 1, color=gray> a </font><font size = 4, color=red> horrible </font><font size = 1, color=blue> story. </font><font size = 1, color=blue> The </font><font size = 1, color=red> acting </font><font size = 1, color=red> was </font><font size = 4, color=red> horrible, </font><font size = 2, color=blue> especially </font><font size = 1, color=red> by </font><font size = 1, color=blue> the </font><font size = 1, color=red> actress </font><font size = 1, color=gray> of </font><font size = 1, color=gray> \"Sai\". </font><font size = 1, color=blue> She </font><font size = 1, color=red> was </font><font size = 1, color=gray> so </font><font size = 4, color=red> bad </font><font size = 2, color=blue> it </font><font size = 1, color=red> was </font><font size = 3, color=red> ridiculous. </font><font size = 1, color=gray> I </font><font size = 1, color=gray> can't </font><font size = 1, color=gray> tell </font><font size = 1, color=red> if </font><font size = 2, color=blue> it </font><font size = 1, color=red> was </font><font size = 1, color=blue> her </font><font size = 4, color=red> bad </font><font size = 1, color=red> acting </font><font size = 1, color=red> or </font><font size = 1, color=gray> because </font><font size = 1, color=blue> the </font><font size = 1, color=gray> character </font><font size = 1, color=red> was </font><font size = 2, color=red> just </font><font size = 1, color=gray> that </font><font size = 2, color=red> stupid </font><font size = 1, color=blue> in </font><font size = 1, color=blue> the </font><font size = 1, color=blue> first </font><font size = 1, color=gray> place. </font><font size = 1, color=gray> I </font><font size = 1, color=gray> can't </font><font size = 2, color=red> even </font><font size = 1, color=blue> get </font><font size = 1, color=blue> my </font><font size = 1, color=gray> mind </font><font size = 1, color=gray> wrapped </font><font size = 1, color=gray> around </font><font size = 2, color=red> just </font><font size = 1, color=gray> how </font><font size = 6, color=red> awful </font><font size = 2, color=blue> and </font><font size = 4, color=red> pointless </font><font size = 1, color=red> this </font><font size = 1, color=red> whole </font><font size = 1, color=red> movie </font><font size = 1, color=red> was. </font><font size = 1, color=gray> I'm </font><font size = 2, color=blue> surprised </font><font size = 2, color=red> someone </font><font size = 2, color=red> even </font><font size = 1, color=blue> thought </font><font size = 2, color=blue> it </font><font size = 1, color=red> was </font><font size = 1, color=gray> a </font><font size = 2, color=blue> good </font><font size = 2, color=red> idea </font><font size = 1, color=red> to </font><font size = 1, color=blue> FILM </font><font size = 1, color=red> this </font><font size = 1, color=red> movie </font><font size = 2, color=blue> and </font><font size = 1, color=red> bother </font><font size = 1, color=red> to </font><font size = 1, color=blue> release </font><font size = 2, color=blue> it.<br </font><font size = 1, color=red> /><br </font><font size = 1, color=red> />If </font><font size = 1, color=blue> you're </font><font size = 1, color=red> looking </font><font size = 1, color=red> for </font><font size = 1, color=gray> a </font><font size = 2, color=blue> good </font><font size = 1, color=red> Vampire/Horror </font><font size = 1, color=gray> flick.. </font><font size = 1, color=red> this </font><font size = 1, color=blue> is </font><font size = 2, color=red> not </font><font size = 1, color=blue> the </font><font size = 1, color=red> movie </font><font size = 1, color=red> for </font><font size = 1, color=blue> you. </font><font size = 1, color=red> Move </font><font size = 1, color=blue> right </font><font size = 1, color=blue> along! </font><font size = 2, color=blue> It's </font><font size = 1, color=gray> a </font><font size = 6, color=red> waste </font><font size = 1, color=gray> of </font><font size = 1, color=blue> time </font><font size = 2, color=blue> and </font><font size = 2, color=red> money. </font><font size = 1, color=gray> Heck, </font><font size = 1, color=gray> I </font><font size = 1, color=red> wouldn't </font><font size = 2, color=red> even </font><font size = 1, color=gray> DOWNLOAD </font><font size = 1, color=red> this </font><font size = 1, color=red> movie </font><font size = 1, color=red> if </font><font size = 2, color=red> someone </font><font size = 1, color=red> PAID </font><font size = 1, color=gray> me.<br </font><font size = 1, color=red> /><br </font><font size = 1, color=red> />This </font><font size = 1, color=red> movie </font><font size = 1, color=blue> is </font><font size = 1, color=gray> so </font><font size = 4, color=red> bad </font><font size = 2, color=blue> it </font><font size = 1, color=red> doesn't </font><font size = 2, color=red> even </font><font size = 1, color=red> deserve </font><font size = 1, color=gray> a </font><font size = 1, color=gray> \"1\". </font><font size = 1, color=gray> I </font><font size = 1, color=gray> wish </font><font size = 1, color=gray> I </font><font size = 1, color=red> could </font><font size = 1, color=gray> give </font><font size = 2, color=blue> it </font><font size = 1, color=gray> a </font><font size = 1, color=gray> \"0\"! </font>"
      ],
      "text/plain": [
       "<utils.ColoredWeightedDoc at 0x3c82f60>"
      ]
     },
     "metadata": {},
     "output_type": "display_data"
    }
   ],
   "source": [
    "for i in range(len(clfs)):\n",
    "    display.display_html(\"<b>\"+names[i]+\"<b>\", raw=True)\n",
    "    j=tis[i].most_opinionateds()[0]\n",
    "    display.display(ColoredWeightedDoc(test_corpus[j].decode('utf-8'), feature_names, clfs[i].coef_[0]))"
   ]
  },
  {
   "cell_type": "markdown",
   "metadata": {
    "collapsed": true
   },
   "source": [
    "## Least opinionated"
   ]
  },
  {
   "cell_type": "code",
   "execution_count": 11,
   "metadata": {
    "collapsed": false
   },
   "outputs": [
    {
     "data": {
      "text/html": [
       "<b>Normalized Counts<b>"
      ]
     },
     "metadata": {},
     "output_type": "display_data"
    },
    {
     "data": {
      "text/html": [
       "<font size = 1, color=gray> Goof: </font><font size = 1, color=gray> Factual </font><font size = 1, color=gray> error<br </font><font size = 1, color=red> /><br </font><font size = 1, color=blue> />When </font><font size = 1, color=gray> Charlie </font><font size = 1, color=gray> walks </font><font size = 1, color=red> out </font><font size = 1, color=gray> of </font><font size = 1, color=blue> the </font><font size = 1, color=gray> room </font><font size = 1, color=red> to </font><font size = 1, color=gray> commit </font><font size = 1, color=gray> suicide </font><font size = 1, color=blue> he </font><font size = 1, color=gray> takes </font><font size = 1, color=blue> his </font><font size = 1, color=gray> gun </font><font size = 1, color=blue> with </font><font size = 1, color=gray> a </font><font size = 1, color=gray> silencer. </font><font size = 1, color=gray> After </font><font size = 1, color=gray> a </font><font size = 1, color=red> few </font><font size = 1, color=gray> seconds </font><font size = 1, color=blue> we </font><font size = 1, color=gray> hear </font><font size = 1, color=gray> a </font><font size = 1, color=gray> loud </font><font size = 1, color=gray> bang </font><font size = 1, color=gray> from </font><font size = 1, color=blue> the </font><font size = 1, color=red> same </font><font size = 1, color=gray> gun </font><font size = 1, color=gray> being </font><font size = 1, color=gray> fired. </font>"
      ],
      "text/plain": [
       "<utils.ColoredWeightedDoc at 0x1a5cfdd8>"
      ]
     },
     "metadata": {},
     "output_type": "display_data"
    },
    {
     "data": {
      "text/html": [
       "<b>Tf-idf<b>"
      ]
     },
     "metadata": {},
     "output_type": "display_data"
    },
    {
     "data": {
      "text/html": [
       "<font size = 1, color=red> An </font><font size = 1, color=gray> intelligent </font><font size = 1, color=gray> summation </font><font size = 1, color=gray> of </font><font size = 1, color=gray> Cold </font><font size = 1, color=blue> War </font><font size = 1, color=gray> era </font><font size = 1, color=gray> mutually </font><font size = 1, color=gray> assured </font><font size = 1, color=gray> destruction </font><font size = 1, color=gray> policy, </font><font size = 1, color=gray> up </font><font size = 1, color=blue> until </font><font size = 1, color=blue> the </font><font size = 1, color=gray> conclusion: </font><font size = 2, color=blue> it's </font><font size = 1, color=gray> a </font><font size = 1, color=gray> gasser! </font><font size = 1, color=gray> All </font><font size = 1, color=gray> Russians </font><font size = 2, color=blue> and </font><font size = 1, color=gray> Chinese </font><font size = 1, color=red> are </font><font size = 1, color=gray> obliterated </font><font size = 1, color=gray> from </font><font size = 1, color=blue> the </font><font size = 1, color=gray> face </font><font size = 1, color=gray> of </font><font size = 1, color=blue> the </font><font size = 1, color=red> Earth! </font><font size = 1, color=blue> Saw </font><font size = 1, color=red> this </font><font size = 1, color=gray> one </font><font size = 1, color=gray> at </font><font size = 1, color=blue> the </font><font size = 1, color=gray> 27th </font><font size = 1, color=gray> Annual </font><font size = 1, color=gray> CWRU </font><font size = 1, color=gray> Science </font><font size = 1, color=gray> Fiction </font><font size = 1, color=gray> Marathon, </font><font size = 1, color=gray> January </font><font size = 1, color=gray> 2002. </font>"
      ],
      "text/plain": [
       "<utils.ColoredWeightedDoc at 0x1a5cfdd8>"
      ]
     },
     "metadata": {},
     "output_type": "display_data"
    }
   ],
   "source": [
    "for i in range(len(clfs)):\n",
    "    display.display_html(\"<b>\"+names[i]+\"<b>\", raw=True)\n",
    "    j=tis[i].least_opinionateds()[0]\n",
    "    display.display(ColoredWeightedDoc(test_corpus[j].decode('utf-8'), feature_names, clfs[i].coef_[0]))"
   ]
  },
  {
   "cell_type": "markdown",
   "metadata": {
    "collapsed": true
   },
   "source": [
    "## Most conflicted"
   ]
  },
  {
   "cell_type": "code",
   "execution_count": 12,
   "metadata": {
    "collapsed": false
   },
   "outputs": [
    {
     "data": {
      "text/html": [
       "<b>Normalized Counts<b>"
      ]
     },
     "metadata": {},
     "output_type": "display_data"
    },
    {
     "data": {
      "text/html": [
       "<font size = 1, color=gray> I </font><font size = 1, color=red> was </font><font size = 1, color=blue> very </font><font size = 1, color=gray> curious </font><font size = 1, color=red> to </font><font size = 1, color=blue> see </font><font size = 1, color=red> this </font><font size = 1, color=gray> Wajda-Depardieu </font><font size = 1, color=gray> outing, </font><font size = 1, color=gray> plus </font><font size = 1, color=blue> the </font><font size = 1, color=blue> time </font><font size = 1, color=gray> period </font><font size = 1, color=blue> is </font><font size = 2, color=blue> definitely </font><font size = 1, color=blue> fascinating. </font><font size = 1, color=gray> Being </font><font size = 1, color=gray> a </font><font size = 1, color=gray> Wajda </font><font size = 1, color=gray> fan, </font><font size = 1, color=gray> I </font><font size = 1, color=red> was </font><font size = 1, color=red> disappointed, </font><font size = 1, color=blue> and </font><font size = 1, color=gray> that </font><font size = 1, color=blue> may </font><font size = 1, color=red> be </font><font size = 1, color=red> an </font><font size = 1, color=gray> understatement. </font><font size = 1, color=blue> The </font><font size = 1, color=blue> film </font><font size = 1, color=gray> never </font><font size = 1, color=gray> really </font><font size = 1, color=gray> took </font><font size = 1, color=gray> cinematic </font><font size = 1, color=gray> flight </font><font size = 1, color=gray> -- </font><font size = 1, color=red> there's </font><font size = 2, color=red> no </font><font size = 1, color=gray> foundation </font><font size = 1, color=red> for </font><font size = 1, color=blue> the </font><font size = 1, color=gray> animosity </font><font size = 1, color=gray> between </font><font size = 1, color=gray> Danton </font><font size = 1, color=blue> and </font><font size = 1, color=gray> Robespierre, </font><font size = 1, color=gray> etc.<br </font><font size = 1, color=red> /><br </font><font size = 2, color=red> />Basically, </font><font size = 1, color=blue> the </font><font size = 3, color=red> script </font><font size = 1, color=red> was </font><font size = 2, color=red> weak </font><font size = 1, color=gray> (adapted </font><font size = 1, color=gray> from </font><font size = 1, color=blue> \"The </font><font size = 1, color=gray> Danton </font><font size = 1, color=gray> Affair\"). </font><font size = 1, color=blue> And </font><font size = 1, color=blue> yet, </font><font size = 1, color=blue> the </font><font size = 1, color=gray> direction </font><font size = 1, color=red> was </font><font size = 1, color=gray> masterful...it's </font><font size = 1, color=gray> Wajda, </font><font size = 1, color=gray> afterall! </font><font size = 1, color=blue> Also, </font><font size = 1, color=red> there </font><font size = 1, color=red> were </font><font size = 1, color=gray> some </font><font size = 4, color=blue> amazing </font><font size = 1, color=red> actors </font><font size = 1, color=red> BUT </font><font size = 1, color=red> they </font><font size = 1, color=gray> never </font><font size = 1, color=gray> really </font><font size = 1, color=gray> grab </font><font size = 1, color=blue> the </font><font size = 1, color=gray> audience's </font><font size = 1, color=gray> attention </font><font size = 1, color=red> like </font><font size = 1, color=red> they </font><font size = 1, color=red> should. </font><font size = 1, color=gray> Depardieu </font><font size = 1, color=gray> comes </font><font size = 1, color=red> off </font><font size = 1, color=blue> as </font><font size = 1, color=gray> a </font><font size = 1, color=gray> quasi-goofy, </font><font size = 1, color=gray> nonchalant </font><font size = 1, color=gray> Danton...not </font><font size = 1, color=gray> exactly </font><font size = 1, color=blue> the </font><font size = 1, color=gray> image </font><font size = 1, color=blue> we </font><font size = 1, color=red> have </font><font size = 1, color=blue> in </font><font size = 1, color=gray> mind. </font><font size = 1, color=gray> Woijech </font><font size = 1, color=gray> Pzsoniak </font><font size = 1, color=blue> is </font><font size = 2, color=blue> incredible, </font><font size = 1, color=blue> as </font><font size = 1, color=gray> usual, </font><font size = 1, color=red> but </font><font size = 1, color=blue> again </font><font size = 1, color=blue> the </font><font size = 3, color=red> script </font><font size = 1, color=gray> puts </font><font size = 1, color=gray> up </font><font size = 1, color=gray> limits </font><font size = 1, color=red> even </font><font size = 1, color=red> actors </font><font size = 1, color=gray> of </font><font size = 3, color=blue> great </font><font size = 1, color=gray> talent </font><font size = 1, color=red> can't </font><font size = 1, color=gray> break </font><font size = 1, color=red> down. </font><font size = 1, color=gray> Andrzej </font><font size = 1, color=gray> Seweryn </font><font size = 1, color=blue> and </font><font size = 1, color=gray> Bogoslaw </font><font size = 1, color=gray> Linda </font><font size = 1, color=gray> pop </font><font size = 1, color=gray> up </font><font size = 1, color=gray> ... </font><font size = 1, color=blue> as </font><font size = 1, color=gray> Bourdon </font><font size = 1, color=blue> and </font><font size = 1, color=gray> Saint-Just...and </font><font size = 1, color=red> if </font><font size = 1, color=blue> you're </font><font size = 1, color=gray> familiar </font><font size = 1, color=blue> with </font><font size = 1, color=gray> Wajda, </font><font size = 1, color=red> then </font><font size = 1, color=blue> you'd </font><font size = 1, color=blue> know </font><font size = 1, color=gray> them.<br </font><font size = 1, color=red> /><br </font><font size = 1, color=blue> />Overall, </font><font size = 1, color=gray> I </font><font size = 1, color=red> was </font><font size = 1, color=red> disappointed </font><font size = 1, color=blue> with </font><font size = 1, color=red> this </font><font size = 1, color=red> much-lauded </font><font size = 1, color=blue> film. </font><font size = 3, color=blue> Great </font><font size = 1, color=red> cast, </font><font size = 3, color=blue> great </font><font size = 1, color=red> director, </font><font size = 1, color=red> but </font><font size = 2, color=red> no </font><font size = 1, color=gray> quality </font><font size = 1, color=gray> foundation. </font><font size = 3, color=red> Bad, </font><font size = 1, color=gray> undynamic </font><font size = 3, color=red> script. </font><font size = 1, color=blue> We </font><font size = 1, color=gray> need </font><font size = 1, color=red> to </font><font size = 1, color=blue> get </font><font size = 1, color=blue> in </font><font size = 1, color=gray> Danton </font><font size = 1, color=gray> (Walesa) </font><font size = 1, color=blue> and </font><font size = 1, color=gray> Robespierre's </font><font size = 1, color=gray> (General </font><font size = 1, color=gray> J) </font><font size = 1, color=gray> mindsets... </font><font size = 1, color=blue> what </font><font size = 1, color=red> are </font><font size = 1, color=blue> their </font><font size = 1, color=gray> motivations? </font><font size = 1, color=gray> Eh...who </font><font size = 1, color=gray> knows? </font><font size = 1, color=gray> One </font><font size = 1, color=gray> likes </font><font size = 1, color=red> women, </font><font size = 1, color=blue> the </font><font size = 1, color=blue> other </font><font size = 1, color=gray> powders </font><font size = 1, color=gray> himself? </font><font size = 1, color=gray> Riiight. </font><font size = 1, color=red> Ok, </font><font size = 1, color=red> so </font><font size = 1, color=red> if </font><font size = 1, color=blue> you're </font><font size = 1, color=red> looking </font><font size = 1, color=red> for </font><font size = 1, color=gray> a </font><font size = 3, color=blue> great </font><font size = 1, color=gray> French </font><font size = 1, color=gray> Revolution </font><font size = 1, color=red> movie </font><font size = 1, color=gray> I </font><font size = 3, color=blue> HIGHLY </font><font size = 1, color=blue> recommend </font><font size = 1, color=gray> \"La </font><font size = 1, color=gray> Revolution </font><font size = 1, color=gray> Francaise\"...it's </font><font size = 1, color=blue> in </font><font size = 1, color=blue> two </font><font size = 1, color=gray> parts </font><font size = 1, color=blue> and </font><font size = 3, color=red> oh-so-great! </font><font size = 5, color=blue> Excellent </font><font size = 1, color=blue> performances, </font><font size = 1, color=blue> in-depth </font><font size = 3, color=red> script, </font><font size = 1, color=gray> juicy </font><font size = 1, color=gray> tid </font><font size = 1, color=gray> bits...definitely </font><font size = 1, color=gray> a </font><font size = 1, color=gray> satisfying </font><font size = 1, color=gray> experience!! </font><font size = 1, color=gray> Klaus-Maria </font><font size = 1, color=gray> Brandauer </font><font size = 1, color=blue> is </font><font size = 1, color=gray> a </font><font size = 1, color=red> much </font><font size = 1, color=red> better </font><font size = 1, color=gray> Danton </font><font size = 1, color=gray> than </font><font size = 1, color=gray> Depardieu...the </font><font size = 4, color=blue> wonderful </font><font size = 1, color=gray> Andrzej </font><font size = 1, color=gray> Seweryn </font><font size = 1, color=red> apparently </font><font size = 1, color=gray> took </font><font size = 1, color=gray> some </font><font size = 1, color=gray> notes </font><font size = 1, color=gray> from </font><font size = 1, color=gray> \"Danton\" </font><font size = 1, color=blue> and </font><font size = 1, color=blue> is </font><font size = 3, color=blue> BRILLIANT </font><font size = 1, color=blue> as </font><font size = 1, color=gray> Robespierre. </font><font size = 1, color=blue> SEE </font><font size = 1, color=blue> IT! </font><font size = 1, color=blue> NOW! </font><font size = 1, color=blue> As </font><font size = 1, color=red> for </font><font size = 1, color=gray> Wajda </font><font size = 1, color=gray> fans </font><font size = 1, color=gray> -- </font><font size = 1, color=blue> you're </font><font size = 1, color=red> better </font><font size = 1, color=red> off </font><font size = 1, color=blue> with </font><font size = 1, color=blue> \"Man </font><font size = 1, color=gray> of </font><font size = 1, color=gray> Iron/Marble\", </font><font size = 1, color=gray> \"Promised </font><font size = 1, color=gray> Land\", </font><font size = 1, color=blue> and </font><font size = 1, color=blue> the </font><font size = 1, color=red> like. </font><font size = 1, color=gray> Cheers!! </font>"
      ],
      "text/plain": [
       "<utils.ColoredWeightedDoc at 0x3c9a128>"
      ]
     },
     "metadata": {},
     "output_type": "display_data"
    },
    {
     "data": {
      "text/html": [
       "<b>Tf-idf<b>"
      ]
     },
     "metadata": {},
     "output_type": "display_data"
    },
    {
     "data": {
      "text/html": [
       "<font size = 1, color=gray> I </font><font size = 3, color=blue> loved </font><font size = 1, color=red> this </font><font size = 1, color=blue> film! </font><font size = 1, color=gray> Fantastically </font><font size = 2, color=red> original </font><font size = 2, color=blue> and </font><font size = 1, color=blue> different! </font><font size = 1, color=gray> A </font><font size = 2, color=blue> solid, </font><font size = 1, color=blue> intense, </font><font size = 1, color=gray> hard-core </font><font size = 2, color=blue> and </font><font size = 1, color=gray> suspenseful </font><font size = 1, color=red> movie </font><font size = 1, color=gray> that </font><font size = 1, color=blue> has </font><font size = 2, color=red> just </font><font size = 1, color=blue> the </font><font size = 1, color=blue> right </font><font size = 1, color=gray> touch </font><font size = 1, color=gray> of </font><font size = 1, color=blue> (dark?) </font><font size = 1, color=blue> humor. </font><font size = 1, color=red> If </font><font size = 1, color=blue> you're </font><font size = 1, color=red> tired </font><font size = 1, color=gray> of </font><font size = 1, color=blue> the </font><font size = 1, color=gray> typical, </font><font size = 1, color=gray> overdone, </font><font size = 3, color=red> ridiculous </font><font size = 1, color=gray> Hollywood </font><font size = 1, color=gray> B.S. </font><font size = 1, color=blue> movies, </font><font size = 1, color=gray> how </font><font size = 1, color=blue> many </font><font size = 1, color=gray> big </font><font size = 1, color=gray> explosions </font><font size = 2, color=blue> and </font><font size = 6, color=red> awful </font><font size = 2, color=blue> and </font><font size = 1, color=red> unrealistic </font><font size = 1, color=red> shoot </font><font size = 1, color=gray> em </font><font size = 1, color=gray> up </font><font size = 1, color=red> gun </font><font size = 1, color=gray> fights </font><font size = 1, color=gray> that </font><font size = 2, color=red> insult </font><font size = 1, color=gray> your </font><font size = 1, color=gray> intelligence </font><font size = 1, color=gray> can </font><font size = 1, color=gray> we </font><font size = 1, color=gray> take, </font><font size = 1, color=red> then </font><font size = 1, color=red> this </font><font size = 1, color=blue> film </font><font size = 1, color=blue> is </font><font size = 1, color=red> for </font><font size = 1, color=blue> you. </font><font size = 2, color=blue> Fantastic </font><font size = 1, color=red> characters </font><font size = 1, color=gray> that </font><font size = 1, color=red> are </font><font size = 3, color=blue> wonderfully </font><font size = 2, color=red> original </font><font size = 2, color=blue> and </font><font size = 2, color=blue> believable, </font><font size = 2, color=blue> and </font><font size = 2, color=blue> solid </font><font size = 1, color=blue> performances </font><font size = 1, color=red> by </font><font size = 1, color=gray> all </font><font size = 1, color=red> actors, </font><font size = 2, color=red> not </font><font size = 1, color=gray> a </font><font size = 2, color=red> weak </font><font size = 1, color=gray> character </font><font size = 1, color=red> or </font><font size = 1, color=blue> performance </font><font size = 1, color=blue> in </font><font size = 1, color=blue> the </font><font size = 1, color=blue> film. </font><font size = 1, color=red> Skip </font><font size = 1, color=gray> Woods' </font><font size = 1, color=blue> film </font><font size = 1, color=blue> is </font><font size = 1, color=gray> a </font><font size = 1, color=gray> breath </font><font size = 1, color=gray> of </font><font size = 1, color=blue> fresh </font><font size = 1, color=gray> air </font><font size = 2, color=blue> and </font><font size = 1, color=gray> I </font><font size = 1, color=gray> applaud </font><font size = 1, color=blue> his </font><font size = 1, color=gray> originality </font><font size = 2, color=blue> and </font><font size = 1, color=gray> efforts, </font><font size = 1, color=blue> his </font><font size = 1, color=blue> film </font><font size = 1, color=blue> has </font><font size = 1, color=blue> the </font><font size = 1, color=gray> feel </font><font size = 1, color=gray> of </font><font size = 1, color=gray> a </font><font size = 1, color=gray> cross </font><font size = 1, color=gray> between </font><font size = 1, color=gray> a </font><font size = 1, color=gray> Quentin </font><font size = 1, color=gray> Tarantino </font><font size = 2, color=blue> and </font><font size = 1, color=gray> a </font><font size = 1, color=gray> Cohen </font><font size = 1, color=blue> brothers </font><font size = 1, color=blue> film </font><font size = 2, color=red> (not </font><font size = 1, color=gray> a </font><font size = 4, color=red> bad </font><font size = 1, color=gray> mix </font><font size = 1, color=gray> at </font><font size = 1, color=gray> all </font><font size = 1, color=blue> in </font><font size = 1, color=blue> my </font><font size = 1, color=gray> opinion). </font><font size = 1, color=red> This </font><font size = 1, color=red> movie </font><font size = 1, color=gray> grabs </font><font size = 1, color=blue> you </font><font size = 1, color=red> by </font><font size = 1, color=blue> the </font><font size = 1, color=gray> throat </font><font size = 2, color=blue> and </font><font size = 1, color=red> doesn't </font><font size = 1, color=red> let </font><font size = 1, color=gray> go, </font><font size = 1, color=red> there's </font><font size = 3, color=red> nothing </font><font size = 4, color=red> boring </font><font size = 1, color=red> or </font><font size = 1, color=gray> bubble </font><font size = 1, color=gray> gum </font><font size = 1, color=gray> about </font><font size = 1, color=red> this </font><font size = 1, color=blue> film. </font><font size = 1, color=blue> The </font><font size = 1, color=red> only </font><font size = 4, color=red> disappointment </font><font size = 1, color=blue> is </font><font size = 1, color=gray> that </font><font size = 1, color=gray> nobody </font><font size = 2, color=red> seems </font><font size = 1, color=red> to </font><font size = 1, color=blue> know </font><font size = 1, color=gray> about </font><font size = 2, color=blue> it, </font><font size = 1, color=blue> everyone </font><font size = 1, color=gray> I've </font><font size = 2, color=blue> recommended </font><font size = 2, color=blue> it </font><font size = 1, color=red> to </font><font size = 1, color=blue> has </font><font size = 1, color=gray> thanked </font><font size = 1, color=gray> me </font><font size = 2, color=blue> and </font><font size = 1, color=gray> shared </font><font size = 1, color=blue> my </font><font size = 1, color=gray> opinion </font><font size = 1, color=red> on </font><font size = 2, color=blue> it. </font><font size = 1, color=red> This </font><font size = 1, color=blue> film </font><font size = 1, color=blue> is </font><font size = 1, color=gray> a </font><font size = 1, color=gray> welcomed </font><font size = 1, color=blue> change/alternative </font><font size = 1, color=gray> from </font><font size = 1, color=blue> the </font><font size = 1, color=gray> canned </font><font size = 1, color=gray> Hollywood </font><font size = 1, color=gray> mainstream </font><font size = 2, color=red> garbage </font><font size = 1, color=gray> being </font><font size = 1, color=gray> produced </font><font size = 3, color=blue> today, </font><font size = 2, color=red> even </font><font size = 1, color=blue> with </font><font size = 1, color=gray> their </font><font size = 1, color=gray> big </font><font size = 1, color=red> name </font><font size = 1, color=red> actors, </font><font size = 1, color=gray> big </font><font size = 1, color=gray> explosions, </font><font size = 1, color=gray> special </font><font size = 1, color=red> effects </font><font size = 2, color=blue> and </font><font size = 1, color=gray> huge </font><font size = 1, color=gray> budgets. </font><font size = 2, color=blue> It's </font><font size = 1, color=gray> a </font><font size = 1, color=gray> terrifically </font><font size = 1, color=gray> wild, </font><font size = 1, color=blue> intense, </font><font size = 1, color=gray> violent, </font><font size = 1, color=gray> graphic, </font><font size = 1, color=gray> humorous </font><font size = 2, color=blue> and </font><font size = 1, color=gray> raw </font><font size = 1, color=gray> (I </font><font size = 1, color=red> mean </font><font size = 1, color=gray> that </font><font size = 1, color=blue> in </font><font size = 1, color=gray> a </font><font size = 2, color=blue> good </font><font size = 1, color=blue> way, </font><font size = 2, color=red> no </font><font size = 1, color=gray> phony </font><font size = 1, color=gray> Hollywood </font><font size = 1, color=gray> polish </font><font size = 1, color=red> here) </font><font size = 1, color=blue> ride. </font><font size = 1, color=gray> Thank </font><font size = 1, color=blue> you </font><font size = 1, color=red> to </font><font size = 1, color=blue> everyone </font><font size = 1, color=gray> involved </font><font size = 1, color=blue> in </font><font size = 1, color=red> making </font><font size = 1, color=red> this </font><font size = 1, color=blue> film </font><font size = 1, color=gray> happen, </font><font size = 1, color=blue> you </font><font size = 1, color=red> did </font><font size = 1, color=red> an </font><font size = 2, color=blue> incredible </font><font size = 2, color=blue> job! </font>"
      ],
      "text/plain": [
       "<utils.ColoredWeightedDoc at 0x317a208>"
      ]
     },
     "metadata": {},
     "output_type": "display_data"
    }
   ],
   "source": [
    "for i in range(len(clfs)):\n",
    "    display.display_html(\"<b>\"+names[i]+\"<b>\", raw=True)\n",
    "    j=tis[i].most_conflicteds()[0]\n",
    "    display.display(ColoredWeightedDoc(test_corpus[j].decode('utf-8'), feature_names, clfs[i].coef_[0]))"
   ]
  },
  {
   "cell_type": "markdown",
   "metadata": {
    "collapsed": true
   },
   "source": [
    "## Least conflicted"
   ]
  },
  {
   "cell_type": "code",
   "execution_count": 13,
   "metadata": {
    "collapsed": false
   },
   "outputs": [
    {
     "data": {
      "text/html": [
       "<b>Normalized Counts<b>"
      ]
     },
     "metadata": {},
     "output_type": "display_data"
    },
    {
     "data": {
      "text/html": [
       "<font size = 1, color=gray> Primary </font><font size = 1, color=red> plot!Primary </font><font size = 1, color=gray> direction!Poor </font><font size = 1, color=gray> interpretation. </font>"
      ],
      "text/plain": [
       "<utils.ColoredWeightedDoc at 0x3c82b38>"
      ]
     },
     "metadata": {},
     "output_type": "display_data"
    },
    {
     "data": {
      "text/html": [
       "<b>Tf-idf<b>"
      ]
     },
     "metadata": {},
     "output_type": "display_data"
    },
    {
     "data": {
      "text/html": [
       "<font size = 1, color=gray> Rating-10 </font><font size = 2, color=blue> Classic </font><font size = 1, color=gray> Waters! </font><font size = 1, color=gray> One </font><font size = 1, color=gray> of </font><font size = 1, color=blue> his </font><font size = 3, color=blue> best </font><font size = 2, color=blue> and </font><font size = 1, color=blue> most </font><font size = 1, color=gray> shocking </font><font size = 1, color=gray> films! </font><font size = 1, color=gray> Divine </font><font size = 1, color=blue> is </font><font size = 1, color=blue> THE </font><font size = 1, color=blue> most </font><font size = 1, color=gray> filthy </font><font size = 1, color=gray> person </font><font size = 1, color=blue> ever! </font><font size = 1, color=gray> Mink </font><font size = 1, color=gray> Stole </font><font size = 2, color=blue> also </font><font size = 1, color=blue> delivers </font><font size = 1, color=gray> a </font><font size = 3, color=blue> superb </font><font size = 1, color=blue> performance! </font>"
      ],
      "text/plain": [
       "<utils.ColoredWeightedDoc at 0x3c82b38>"
      ]
     },
     "metadata": {},
     "output_type": "display_data"
    }
   ],
   "source": [
    "for i in range(len(clfs)):\n",
    "    display.display_html(\"<b>\"+names[i]+\"<b>\", raw=True)\n",
    "    j=tis[i].least_conflicteds()[0]\n",
    "    display.display(ColoredWeightedDoc(test_corpus[j].decode('utf-8'), feature_names, clfs[i].coef_[0]))"
   ]
  }
 ],
 "metadata": {
  "kernelspec": {
   "display_name": "Python 2",
   "language": "python",
   "name": "python2"
  },
  "language_info": {
   "codemirror_mode": {
    "name": "ipython",
    "version": 2
   },
   "file_extension": ".py",
   "mimetype": "text/x-python",
   "name": "python",
   "nbconvert_exporter": "python",
   "pygments_lexer": "ipython2",
   "version": "2.7.9"
  }
 },
 "nbformat": 4,
 "nbformat_minor": 0
}
